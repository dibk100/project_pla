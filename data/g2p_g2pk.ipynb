{
 "cells": [
  {
   "cell_type": "markdown",
   "id": "6e7a93d8",
   "metadata": {},
   "source": [
    "### G2P TEST\n",
    "- g2pk (Grapheme-to-Phoneme for Korean)   \n",
    "- Python 기반 한국어 표기 → 발음 변환기(표준 한국어 규칙 기반으로 변환)"
   ]
  },
  {
   "cell_type": "code",
   "execution_count": 4,
   "id": "7e9c326b",
   "metadata": {},
   "outputs": [
    {
     "name": "stdout",
     "output_type": "stream",
     "text": [
      "[표준 발음] 배고픈 거 가타요\n",
      "[예측 발음] 배고푼거 갇타요\n",
      "\n",
      "[발음 차이]\n",
      "+ 푼\n",
      "- 픈\n",
      "-  \n",
      "- 가\n",
      "+ 갇\n"
     ]
    }
   ],
   "source": [
    "from g2pk import G2p\n",
    "from difflib import ndiff\n",
    "\n",
    "g2p = G2p()\n",
    "\n",
    "standard = \"배고픈 거 같아요\"\n",
    "predicted = \"배고푼거 갓타요\"\n",
    "\n",
    "standard_p = g2p(standard)\n",
    "predicted_p = g2p(predicted)\n",
    "\n",
    "print(\"[표준 발음]\", standard_p)\n",
    "print(\"[예측 발음]\", predicted_p)\n",
    "\n",
    "# 차이 비교\n",
    "print(\"\\n[발음 차이]\")\n",
    "for s in ndiff(standard_p, predicted_p):\n",
    "    if s[0] in ('+', '-'):\n",
    "        print(s)"
   ]
  }
 ],
 "metadata": {
  "kernelspec": {
   "display_name": "dibk311",
   "language": "python",
   "name": "python3"
  },
  "language_info": {
   "codemirror_mode": {
    "name": "ipython",
    "version": 3
   },
   "file_extension": ".py",
   "mimetype": "text/x-python",
   "name": "python",
   "nbconvert_exporter": "python",
   "pygments_lexer": "ipython3",
   "version": "3.11.11"
  }
 },
 "nbformat": 4,
 "nbformat_minor": 5
}
